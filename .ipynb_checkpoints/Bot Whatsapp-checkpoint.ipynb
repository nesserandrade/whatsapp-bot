{
 "cells": [
  {
   "cell_type": "code",
   "execution_count": 19,
   "id": "92ea701c",
   "metadata": {},
   "outputs": [],
   "source": [
    "import pandas as pd\n",
    "from selenium import webdriver\n",
    "from selenium.webdriver.common.keys import Keys\n",
    "import time\n",
    "import urllib\n",
    "\n",
    "contatos = pd.read_excel(\"contatosturma.xlsx\")\n",
    "navegador = webdriver.Chrome(\"chromedriver.exe\")\n",
    "navegador.get(\"https://web.whatsapp.com/\")\n",
    "\n",
    "while len(navegador.find_elements_by_id(\"side\")) < 1:\n",
    "    time.sleep(1)\n",
    "\n",
    "# login feito no whatsapp\n",
    "\n",
    "for i, mensagem in enumerate(contatos[\"Mensagem\"]):\n",
    "    pessoa = contatos.loc[i, \"Pessoa\"]\n",
    "    numero = contatos.loc[i, \"Número\"]\n",
    "    texto = urllib.parse.quote(f\"Oi, {pessoa}! {mensagem}\")\n",
    "    link = f'https://web.whatsapp.com/send?phone={numero}&text={texto}'\n",
    "    navegador.get(link)\n",
    "    while len(navegador.find_elements_by_id(\"side\")) < 1:\n",
    "        time.sleep(3)\n",
    "    campo = navegador.find_elements_by_xpath('//div[contains(@class,\"copyable-text selectable-text\")]')\n",
    "    campo[1].send_keys(Keys.ENTER)\n",
    "    time.sleep(5)\n",
    "navegador.quit()\n",
    "    \n",
    "# mensagens enviadas\n",
    "   "
   ]
  },
  {
   "cell_type": "code",
   "execution_count": null,
   "id": "4233b374",
   "metadata": {},
   "outputs": [],
   "source": []
  },
  {
   "cell_type": "code",
   "execution_count": null,
   "id": "a8c166b3",
   "metadata": {},
   "outputs": [],
   "source": []
  }
 ],
 "metadata": {
  "kernelspec": {
   "display_name": "Python 3",
   "language": "python",
   "name": "python3"
  },
  "language_info": {
   "codemirror_mode": {
    "name": "ipython",
    "version": 3
   },
   "file_extension": ".py",
   "mimetype": "text/x-python",
   "name": "python",
   "nbconvert_exporter": "python",
   "pygments_lexer": "ipython3",
   "version": "3.8.8"
  }
 },
 "nbformat": 4,
 "nbformat_minor": 5
}
